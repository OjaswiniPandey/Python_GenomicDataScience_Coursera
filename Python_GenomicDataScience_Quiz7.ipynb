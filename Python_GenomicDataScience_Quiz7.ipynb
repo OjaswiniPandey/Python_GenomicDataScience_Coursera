{
 "cells": [
  {
   "cell_type": "code",
   "execution_count": null,
   "metadata": {},
   "outputs": [],
   "source": [
    "# Question 1\n",
    "# A student wants to write into a file called myfile, without deleting its existing content. Which one of the following functions should he or she use?\n",
    "# f = open('myfile', '+')\n",
    "# f = open('myfile', 'r')\n",
    "# f = open('myfile', 'b')\n",
    "# f = open('myfile', 'a')\n"
   ]
  },
  {
   "cell_type": "code",
   "execution_count": null,
   "metadata": {},
   "outputs": [],
   "source": [
    "# Question 2\n",
    "# Which of the following statements are true?\n",
    "# A) When you open a file for reading, if the file does not exist, an error occurs.\n",
    "# B) When you open a file for writing, if the file does not exist, a new file is created. \n",
    "# C) When you open a file for reading, if the file does not exist, the program will open an empty file.\n",
    "# D) When you open a file for writing, if the file exists, the existing file is overwritten with the new file.\n",
    "# E) When you open a file for writing, if the file does not exist, an error occurs.\n",
    "# All of them are correct\n",
    "# B, C, and D only\n",
    "# A, B, and D only\n",
    "# A and B only\n"
   ]
  },
  {
   "cell_type": "code",
   "execution_count": 2,
   "metadata": {},
   "outputs": [
    {
     "data": {
      "text/plain": [
       "'myfile'"
      ]
     },
     "execution_count": 2,
     "metadata": {},
     "output_type": "execute_result"
    }
   ],
   "source": [
    "# Question 3\n",
    "# Examine the following three functions that take as argument a file name and return the extension of that file. For instance, if the file name is 'myfile.tar.gz' the returned value of the function should be 'gz'. If the file name has no extention, i.e. when the file name is just 'myfile', the function should return an empty string.\n",
    "\n",
    "\n",
    "def get_extension1(filename):\n",
    "    return(filename.split(\".\")[-1])\n",
    "\n",
    "get_extension1('myfile')\n"
   ]
  },
  {
   "cell_type": "code",
   "execution_count": 5,
   "metadata": {},
   "outputs": [
    {
     "data": {
      "text/plain": [
       "'.gz'"
      ]
     },
     "execution_count": 5,
     "metadata": {},
     "output_type": "execute_result"
    }
   ],
   "source": [
    "def get_extension2(filename):\n",
    "    import os.path\n",
    "    return(os.path.splitext(filename)[1])\n",
    "\n",
    "get_extension2('myfile.tar.gz')\n"
   ]
  },
  {
   "cell_type": "code",
   "execution_count": 6,
   "metadata": {},
   "outputs": [
    {
     "data": {
      "text/plain": [
       "'gz'"
      ]
     },
     "execution_count": 6,
     "metadata": {},
     "output_type": "execute_result"
    }
   ],
   "source": [
    "def get_extension3(filename):\n",
    "    return filename[filename.rfind('.'):][1:]\n",
    "\n",
    "get_extension3('myfile.tar.gz')"
   ]
  },
  {
   "cell_type": "code",
   "execution_count": null,
   "metadata": {},
   "outputs": [],
   "source": [
    "# Question 4\n",
    "# A student is running a Python program like this:\n",
    "# 1\n",
    "# >python mergefasta.py myfile1.fa myfile2.fa\n",
    "# In the mergefasta.py program the following lines are present:\n",
    "\n",
    "# import sys\n",
    "# tocheck=sys.argv[1]\n",
    "# What is the value of the variable tocheck?\n"
   ]
  },
  {
   "cell_type": "code",
   "execution_count": null,
   "metadata": {},
   "outputs": [],
   "source": [
    "# Question 5\n",
    "# A student launches the Python interpreter from his home directory. His home directory contains another directory called 'mydir',  and 'mydir' contains two files called 'foo' and 'bar'. The home directory does not contain any files, only other directories.  What will happen when he writes the following code at the Python prompt:>>> import os\n",
    "# >>> filenames = os.listdir('mydir')\n",
    "# >>> f= open(filenames[0])\n"
   ]
  }
 ],
 "metadata": {
  "kernelspec": {
   "display_name": "Python 3",
   "language": "python",
   "name": "python3"
  },
  "language_info": {
   "codemirror_mode": {
    "name": "ipython",
    "version": 3
   },
   "file_extension": ".py",
   "mimetype": "text/x-python",
   "name": "python",
   "nbconvert_exporter": "python",
   "pygments_lexer": "ipython3",
   "version": "3.8.5"
  }
 },
 "nbformat": 4,
 "nbformat_minor": 4
}
