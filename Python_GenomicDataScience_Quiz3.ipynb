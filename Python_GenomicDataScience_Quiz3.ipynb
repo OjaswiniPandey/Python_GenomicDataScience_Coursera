{
 "cells": [
  {
   "cell_type": "code",
   "execution_count": 1,
   "metadata": {},
   "outputs": [
    {
     "data": {
      "text/plain": [
       "list"
      ]
     },
     "execution_count": 1,
     "metadata": {},
     "output_type": "execute_result"
    }
   ],
   "source": [
    "#Question 1\n",
    "#What data type is the object below?\n",
    "#[1e-10,(1,2),\"BGP\",[3]]\n",
    "\n",
    "\n",
    "type ([1e-10,(1,2),\"BGP\",[3]])"
   ]
  },
  {
   "cell_type": "code",
   "execution_count": 2,
   "metadata": {},
   "outputs": [
    {
     "data": {
      "text/plain": [
       "90.0"
      ]
     },
     "execution_count": 2,
     "metadata": {},
     "output_type": "execute_result"
    }
   ],
   "source": [
    "#Question 2\n",
    "#What is the value returned when the code below is executed:\n",
    "#>>> grades = [70,80.0,90,100]\n",
    "#>>> (grades[1]+grades[3])/2\n",
    "\n",
    "grades = [70,80.0,90,100]\n",
    "(grades[1]+grades[3])/2"
   ]
  },
  {
   "cell_type": "code",
   "execution_count": 3,
   "metadata": {},
   "outputs": [
    {
     "data": {
      "text/plain": [
       "['GT-AG', 'GC-AG']"
      ]
     },
     "execution_count": 3,
     "metadata": {},
     "output_type": "execute_result"
    }
   ],
   "source": [
    "#Question 3\n",
    "#Suppose splice_site_pairs = ['GT-AG','GC-AG','AT-AC']. What is splice_site_pairs[:-1] ?\n",
    "#['GT-AG']\n",
    "#['GT-AG','GC-AG','AT-AC']\n",
    "#['GT-AG', 'GC-AG']\n",
    "#Error\n",
    "\n",
    "splice_site_pairs = ['GT-AG','GC-AG','AT-AC']\n",
    "splice_site_pairs[:-1]"
   ]
  },
  {
   "cell_type": "code",
   "execution_count": 4,
   "metadata": {},
   "outputs": [
    {
     "name": "stdout",
     "output_type": "stream",
     "text": [
      "[1, 2, 3, 4, 5]\n"
     ]
    }
   ],
   "source": [
    "#Question 4\n",
    "#We want to add a new element to a list variable L. The new element is stored in a variable e. What command do we use?\n",
    "\n",
    "L = [1,2,3,4]\n",
    "e = 5\n",
    "L.append(e)\n",
    "print (L) "
   ]
  },
  {
   "cell_type": "code",
   "execution_count": 5,
   "metadata": {},
   "outputs": [
    {
     "ename": "SyntaxError",
     "evalue": "invalid syntax (<ipython-input-5-3c0101c1b617>, line 7)",
     "output_type": "error",
     "traceback": [
      "\u001b[1;36m  File \u001b[1;32m\"<ipython-input-5-3c0101c1b617>\"\u001b[1;36m, line \u001b[1;32m7\u001b[0m\n\u001b[1;33m    print len(t)\u001b[0m\n\u001b[1;37m          ^\u001b[0m\n\u001b[1;31mSyntaxError\u001b[0m\u001b[1;31m:\u001b[0m invalid syntax\n"
     ]
    }
   ],
   "source": [
    "#Question 5\n",
    "#Suppose t = ('a', 'c', 'g', 't'). What will be the output of the following code:\n",
    "#>>> t.append( ('A','C','G','T') )\n",
    "#>>> print len(t)\n",
    "t = ('a', 'c', 'g', 't')\n",
    "t.append( ('A','C','G','T') )\n",
    "print len(t)"
   ]
  },
  {
   "cell_type": "code",
   "execution_count": 6,
   "metadata": {},
   "outputs": [
    {
     "name": "stdout",
     "output_type": "stream",
     "text": [
      "Enter DNA sequence:aaaaaaaaaaaaaattttgggggggccccccc\n",
      "t\n"
     ]
    }
   ],
   "source": [
    "#Question 6\n",
    "#What is the result of the print function in the following Python 3.xx code:\n",
    "#dna=input(\"Enter DNA sequence:\")\n",
    "#dna_counts={'t':dna.count('t'),'c':dna.count('c'),'g':dna.count('g'),'a':dna.count('a')}\n",
    "#nt=sorted(dna_counts.keys())\n",
    "#print(nt[-1])\n",
    "\n",
    "dna=input(\"Enter DNA sequence:\")\n",
    "dna_counts={'t':dna.count('t'),'c':dna.count('c'),'g':dna.count('g'),'a':dna.count('a')}\n",
    "nt=sorted(dna_counts.keys())\n",
    "print(nt[-1])"
   ]
  },
  {
   "cell_type": "code",
   "execution_count": 7,
   "metadata": {},
   "outputs": [
    {
     "name": "stdout",
     "output_type": "stream",
     "text": [
      "Enter DNA sequence:atgc\n",
      "t\n"
     ]
    }
   ],
   "source": [
    "dna=input(\"Enter DNA sequence:\")\n",
    "dna_counts={'t':dna.count('t'),'c':dna.count('c'),'g':dna.count('g'),'a':dna.count('a')}\n",
    "nt=sorted(dna_counts.keys())\n",
    "print(nt[-1])"
   ]
  },
  {
   "cell_type": "code",
   "execution_count": 8,
   "metadata": {},
   "outputs": [
    {
     "name": "stdout",
     "output_type": "stream",
     "text": [
      "Enter DNA sequence:aattggcccccccccccccccccccccccc\n",
      "t\n"
     ]
    }
   ],
   "source": [
    "dna=input(\"Enter DNA sequence:\")\n",
    "dna_counts={'t':dna.count('t'),'c':dna.count('c'),'g':dna.count('g'),'a':dna.count('a')}\n",
    "nt=sorted(dna_counts.keys())\n",
    "print(nt[-1])"
   ]
  },
  {
   "cell_type": "code",
   "execution_count": 9,
   "metadata": {},
   "outputs": [
    {
     "name": "stdout",
     "output_type": "stream",
     "text": [
      "{'g': 13, 'c': 3, 't': 1}\n"
     ]
    }
   ],
   "source": [
    "#Question 7\n",
    "#To delete an entry with the key 'a' from the dictionary dna_counts={'g': 13, 'c': 3,\n",
    "#'t': 1, 'a': 16} what command do we use:\n",
    "#dna_counts.delete('a':16)\n",
    "#dna_counts[-1]=''\n",
    "#del dna_counts['a']\n",
    "#dna_counts['a']=''\n",
    "\n",
    "dna_counts={'g': 13, 'c': 3,'t': 1, 'a': 16}\n",
    "del dna_counts['a']\n",
    "\n",
    "print (dna_counts)\n"
   ]
  },
  {
   "cell_type": "code",
   "execution_count": 10,
   "metadata": {},
   "outputs": [
    {
     "name": "stdout",
     "output_type": "stream",
     "text": [
      "a\n"
     ]
    }
   ],
   "source": [
    "#Question 8\n",
    "#Suppose dna is a string variable that contains only 'a','c','g' or 't' characters. What Python code below can we use to find the frequency (max_freq) of the most frequent character in string dna?\n",
    "\n",
    "dna = 'aaaacggtttttaaattttttttttttttttttttttttt'\n",
    "dna_counts = {'t':dna.count('t'),'c':dna.count('c'),'g':dna.count('g'),'a':dna.count('a')}\n",
    "max_freq=sorted(dna_counts.keys())[0]\n",
    "print (max_freq)\n"
   ]
  },
  {
   "cell_type": "code",
   "execution_count": 11,
   "metadata": {},
   "outputs": [
    {
     "name": "stdout",
     "output_type": "stream",
     "text": [
      "t\n"
     ]
    }
   ],
   "source": [
    "dna = 'aaaacggtttttaaattttttttttttttttttttttttt'\n",
    "dna_counts = {'t':dna.count('t'),'c':dna.count('c'),'g':dna.count('g'),'a':dna.count('a')}\n",
    "max_freq=sorted(dna_counts.keys())[-1]\n",
    "print (max_freq)\n"
   ]
  },
  {
   "cell_type": "code",
   "execution_count": 12,
   "metadata": {},
   "outputs": [
    {
     "name": "stdout",
     "output_type": "stream",
     "text": [
      "30\n"
     ]
    }
   ],
   "source": [
    "dna = 'aaaacggtttttaaattttttttttttttttttttttttt'\n",
    "dna_counts= {'t':dna.count('t'),'c':dna.count('c'),'g':dna.count('g'),'a':dna.count('a')}\n",
    "max_freq=sorted(dna_counts.values())[-1]\n",
    "print (max_freq)"
   ]
  },
  {
   "cell_type": "code",
   "execution_count": 13,
   "metadata": {},
   "outputs": [
    {
     "name": "stdout",
     "output_type": "stream",
     "text": [
      "[3]\n"
     ]
    }
   ],
   "source": [
    "#Question 9\n",
    "#Suppose L1 and L2 are two list variables. What does the list variable\n",
    "#L3 = list(set(L1)&set(L2)) contain?\n",
    "#All elements in lists L1 and L2\n",
    "#All elements common to lists L1 and L2\n",
    "#All elements common between lists L1 and L2 without duplicates\n",
    "#A list of sets formed with the elements of lists L1 and L2\n",
    "\n",
    "L1 = [1,2,3,3]\n",
    "L2 = [3,4,5,6]\n",
    "\n",
    "L3 = list(set(L1)&set(L2))\n",
    "print (L3)\n"
   ]
  },
  {
   "cell_type": "code",
   "execution_count": 14,
   "metadata": {},
   "outputs": [
    {
     "name": "stdout",
     "output_type": "stream",
     "text": [
      "{'cheese': 'Dairy', 'Cheese': 'Dairy'}\n"
     ]
    }
   ],
   "source": [
    "#Question 10\n",
    "#How many elements are in the dictionary someData after the following code has been executed?\n",
    "#someData = { }\n",
    "#someData['cheese'] = 'dairy'\n",
    "#someData['Cheese'] = 'dairy'\n",
    "#someData['Cheese'] = 'Dairy'\n",
    "#someData['cheese'] = 'Dairy'\n",
    "\n",
    "someData = { }\n",
    "someData['cheese'] = 'dairy'\n",
    "someData['Cheese'] = 'dairy'\n",
    "someData['Cheese'] = 'Dairy'\n",
    "someData['cheese'] = 'Dairy'\n",
    "print (someData)\n"
   ]
  }
 ],
 "metadata": {
  "kernelspec": {
   "display_name": "Python 3",
   "language": "python",
   "name": "python3"
  },
  "language_info": {
   "codemirror_mode": {
    "name": "ipython",
    "version": 3
   },
   "file_extension": ".py",
   "mimetype": "text/x-python",
   "name": "python",
   "nbconvert_exporter": "python",
   "pygments_lexer": "ipython3",
   "version": "3.8.5"
  }
 },
 "nbformat": 4,
 "nbformat_minor": 4
}
