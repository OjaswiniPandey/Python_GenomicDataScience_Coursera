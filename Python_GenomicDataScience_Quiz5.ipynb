{
 "cells": [
  {
   "cell_type": "code",
   "execution_count": 1,
   "metadata": {},
   "outputs": [
    {
     "data": {
      "text/plain": [
       "(2, 1)"
      ]
     },
     "execution_count": 1,
     "metadata": {},
     "output_type": "execute_result"
    }
   ],
   "source": [
    "# Question 1\n",
    "# A student writes several functions to swap the values of the two variables x and y, i.e. if x=1 and y=2, after calling the swap function x=2 and y=1. The different functions that the student writes are given below:\n",
    "# def swap1(x,y) :\n",
    "#     x=y\n",
    "#     y=x\n",
    "#     return(x,y)\n",
    "# def swap2(x,y) :\n",
    "#     return(y,x)\n",
    "# def swap3(x,y) :\n",
    "#     z=x\n",
    "#     x=y\n",
    "#     y=z\n",
    "#     return(x,y)\n",
    "# def swap4(x,y) :\n",
    "#     x,y=y,x\n",
    "#     return(x,y)\n",
    "# Which of the functions swap1, swap2, swap3, and swap4 is correct?\n",
    "\n",
    "\n",
    "\n",
    "x = 1\n",
    "y = 2\n",
    "\n",
    "def swap1(x,y) :\n",
    "    x=y\n",
    "    y=x\n",
    "    return(x,y)\n",
    "\n",
    "def swap2(x,y) :\n",
    "    return(y,x)\n",
    "\n",
    "def swap3(x,y) :\n",
    "    z=x\n",
    "    x=y\n",
    "    y=z\n",
    "    return(x,y)\n",
    "\n",
    "def swap4(x,y) :\n",
    "    x,y=y,x\n",
    "    return(x,y)\n",
    "\n",
    "#swap1(x,y)\n",
    "#swap2(x,y)\n",
    "#swap3(x,y)\n",
    "swap4(x,y)"
   ]
  },
  {
   "cell_type": "code",
   "execution_count": 18,
   "metadata": {},
   "outputs": [
    {
     "name": "stdout",
     "output_type": "stream",
     "text": [
      "-6\n",
      "-3.0\n"
     ]
    }
   ],
   "source": [
    "# Question 2\n",
    "# Consider the following two functions:\n",
    "# def f1(x):\n",
    "#     if (x > 0):\n",
    "#         x = 3*x \n",
    "#         x = x / 2\n",
    "#     return x\n",
    "# def f2(x):\n",
    "#     if (x > 0):\n",
    "#         x = 3*x\n",
    "#     x = x / 2\n",
    "# For what values of x will f1 and f2 return the same value?\n",
    "\n",
    "x = -6\n",
    "\n",
    "def f1(x):\n",
    "    if (x > 0):\n",
    "        x = 3*x \n",
    "        x = x / 2\n",
    "    return x\n",
    "\n",
    "def f2(x):\n",
    "    if (x > 0):\n",
    "        x = 3*x\n",
    "    x = x / 2\n",
    "    return x\n",
    "\n",
    "print (f1(x))\n",
    "print (f2(x))\n"
   ]
  },
  {
   "cell_type": "code",
   "execution_count": 19,
   "metadata": {},
   "outputs": [
    {
     "name": "stdout",
     "output_type": "stream",
     "text": [
      "3\n",
      "2\n",
      "1\n"
     ]
    }
   ],
   "source": [
    "# Question 3\n",
    "# A recursive function in programming is a function that calls itself during its execution. The following two functions are examples of recursive functions:\n",
    "# def function1(length):\n",
    "#     if length > 0:\n",
    "#         print(length)\n",
    "#         function1(length - 1)\n",
    "# def function2(length):\n",
    "#     while length > 0:\n",
    "#         print(length)\n",
    "#         function2(length - 1)\n",
    "# What can you say about the output of function1(3) and function2(3)?\n",
    "# function1 produces the output: 3 2 1 and function2 runs infinitely.\n",
    "# The two functions produce the same output 3 2 1.\n",
    "\n",
    "\n",
    "def function1(length):\n",
    "    if length > 0:\n",
    "        print(length)\n",
    "        function1(length - 1)\n",
    "def function2(length):\n",
    "    while length > 0:\n",
    "        print(length)\n",
    "        function2(length - 1)\n",
    "function1(3)"
   ]
  },
  {
   "cell_type": "code",
   "execution_count": 25,
   "metadata": {},
   "outputs": [
    {
     "data": {
      "text/plain": [
       "11"
      ]
     },
     "execution_count": 25,
     "metadata": {},
     "output_type": "execute_result"
    }
   ],
   "source": [
    "# Question 4\n",
    "# The following recursive function takes three positive integer arguments:\n",
    "# def compute(n,x,y) :\n",
    "#     if n==0 : return x\n",
    "#     return compute(n-1,x+y,y)\n",
    "# What is the value returned by the compute function?\n",
    "\n",
    "\n",
    "n= 2\n",
    "x=3\n",
    "y=4\n",
    "def compute(n,x,y) :\n",
    "    if n==0 :return x\n",
    "    return compute(n-1,x+y,y)\n",
    "\n",
    "compute(n,x,y)\n"
   ]
  },
  {
   "cell_type": "code",
   "execution_count": 26,
   "metadata": {},
   "outputs": [
    {
     "ename": "RecursionError",
     "evalue": "maximum recursion depth exceeded in comparison",
     "output_type": "error",
     "traceback": [
      "\u001b[1;31m---------------------------------------------------------------------------\u001b[0m",
      "\u001b[1;31mRecursionError\u001b[0m                            Traceback (most recent call last)",
      "\u001b[1;32m<ipython-input-26-62a8fefea963>\u001b[0m in \u001b[0;36m<module>\u001b[1;34m\u001b[0m\n\u001b[0;32m      9\u001b[0m     \u001b[1;32mreturn\u001b[0m \u001b[0mcompute\u001b[0m\u001b[1;33m(\u001b[0m\u001b[0mn\u001b[0m\u001b[1;33m-\u001b[0m\u001b[1;36m1\u001b[0m\u001b[1;33m,\u001b[0m\u001b[0mx\u001b[0m\u001b[1;33m+\u001b[0m\u001b[0my\u001b[0m\u001b[1;33m,\u001b[0m\u001b[0my\u001b[0m\u001b[1;33m)\u001b[0m\u001b[1;33m\u001b[0m\u001b[1;33m\u001b[0m\u001b[0m\n\u001b[0;32m     10\u001b[0m \u001b[1;33m\u001b[0m\u001b[0m\n\u001b[1;32m---> 11\u001b[1;33m \u001b[0mcompute\u001b[0m\u001b[1;33m(\u001b[0m\u001b[0mn\u001b[0m\u001b[1;33m,\u001b[0m\u001b[0mx\u001b[0m\u001b[1;33m,\u001b[0m\u001b[0my\u001b[0m\u001b[1;33m)\u001b[0m\u001b[1;33m\u001b[0m\u001b[1;33m\u001b[0m\u001b[0m\n\u001b[0m\u001b[0;32m     12\u001b[0m \u001b[1;33m\u001b[0m\u001b[0m\n",
      "\u001b[1;32m<ipython-input-26-62a8fefea963>\u001b[0m in \u001b[0;36mcompute\u001b[1;34m(n, x, y)\u001b[0m\n\u001b[0;32m      7\u001b[0m \u001b[1;32mdef\u001b[0m \u001b[0mcompute\u001b[0m\u001b[1;33m(\u001b[0m\u001b[0mn\u001b[0m\u001b[1;33m,\u001b[0m\u001b[0mx\u001b[0m\u001b[1;33m,\u001b[0m\u001b[0my\u001b[0m\u001b[1;33m)\u001b[0m \u001b[1;33m:\u001b[0m\u001b[1;33m\u001b[0m\u001b[1;33m\u001b[0m\u001b[0m\n\u001b[0;32m      8\u001b[0m     \u001b[1;32mif\u001b[0m \u001b[0mn\u001b[0m\u001b[1;33m==\u001b[0m\u001b[1;36m0\u001b[0m \u001b[1;33m:\u001b[0m\u001b[1;32mreturn\u001b[0m \u001b[0mx\u001b[0m\u001b[1;33m\u001b[0m\u001b[1;33m\u001b[0m\u001b[0m\n\u001b[1;32m----> 9\u001b[1;33m     \u001b[1;32mreturn\u001b[0m \u001b[0mcompute\u001b[0m\u001b[1;33m(\u001b[0m\u001b[0mn\u001b[0m\u001b[1;33m-\u001b[0m\u001b[1;36m1\u001b[0m\u001b[1;33m,\u001b[0m\u001b[0mx\u001b[0m\u001b[1;33m+\u001b[0m\u001b[0my\u001b[0m\u001b[1;33m,\u001b[0m\u001b[0my\u001b[0m\u001b[1;33m)\u001b[0m\u001b[1;33m\u001b[0m\u001b[1;33m\u001b[0m\u001b[0m\n\u001b[0m\u001b[0;32m     10\u001b[0m \u001b[1;33m\u001b[0m\u001b[0m\n\u001b[0;32m     11\u001b[0m \u001b[0mcompute\u001b[0m\u001b[1;33m(\u001b[0m\u001b[0mn\u001b[0m\u001b[1;33m,\u001b[0m\u001b[0mx\u001b[0m\u001b[1;33m,\u001b[0m\u001b[0my\u001b[0m\u001b[1;33m)\u001b[0m\u001b[1;33m\u001b[0m\u001b[1;33m\u001b[0m\u001b[0m\n",
      "... last 1 frames repeated, from the frame below ...\n",
      "\u001b[1;32m<ipython-input-26-62a8fefea963>\u001b[0m in \u001b[0;36mcompute\u001b[1;34m(n, x, y)\u001b[0m\n\u001b[0;32m      7\u001b[0m \u001b[1;32mdef\u001b[0m \u001b[0mcompute\u001b[0m\u001b[1;33m(\u001b[0m\u001b[0mn\u001b[0m\u001b[1;33m,\u001b[0m\u001b[0mx\u001b[0m\u001b[1;33m,\u001b[0m\u001b[0my\u001b[0m\u001b[1;33m)\u001b[0m \u001b[1;33m:\u001b[0m\u001b[1;33m\u001b[0m\u001b[1;33m\u001b[0m\u001b[0m\n\u001b[0;32m      8\u001b[0m     \u001b[1;32mif\u001b[0m \u001b[0mn\u001b[0m\u001b[1;33m==\u001b[0m\u001b[1;36m0\u001b[0m \u001b[1;33m:\u001b[0m\u001b[1;32mreturn\u001b[0m \u001b[0mx\u001b[0m\u001b[1;33m\u001b[0m\u001b[1;33m\u001b[0m\u001b[0m\n\u001b[1;32m----> 9\u001b[1;33m     \u001b[1;32mreturn\u001b[0m \u001b[0mcompute\u001b[0m\u001b[1;33m(\u001b[0m\u001b[0mn\u001b[0m\u001b[1;33m-\u001b[0m\u001b[1;36m1\u001b[0m\u001b[1;33m,\u001b[0m\u001b[0mx\u001b[0m\u001b[1;33m+\u001b[0m\u001b[0my\u001b[0m\u001b[1;33m,\u001b[0m\u001b[0my\u001b[0m\u001b[1;33m)\u001b[0m\u001b[1;33m\u001b[0m\u001b[1;33m\u001b[0m\u001b[0m\n\u001b[0m\u001b[0;32m     10\u001b[0m \u001b[1;33m\u001b[0m\u001b[0m\n\u001b[0;32m     11\u001b[0m \u001b[0mcompute\u001b[0m\u001b[1;33m(\u001b[0m\u001b[0mn\u001b[0m\u001b[1;33m,\u001b[0m\u001b[0mx\u001b[0m\u001b[1;33m,\u001b[0m\u001b[0my\u001b[0m\u001b[1;33m)\u001b[0m\u001b[1;33m\u001b[0m\u001b[1;33m\u001b[0m\u001b[0m\n",
      "\u001b[1;31mRecursionError\u001b[0m: maximum recursion depth exceeded in comparison"
     ]
    }
   ],
   "source": [
    "# Question 5\n",
    "# What will the returned value be for the compute function defined in Question 4 if the argument n is negative?\n",
    "\n",
    "n=-2\n",
    "x=3\n",
    "y=4\n",
    "def compute(n,x,y) :\n",
    "    if n==0 :return x\n",
    "    return compute(n-1,x+y,y)\n",
    "\n",
    "compute(n,x,y)\n",
    "\n"
   ]
  },
  {
   "cell_type": "code",
   "execution_count": 77,
   "metadata": {},
   "outputs": [
    {
     "data": {
      "text/plain": [
       "1"
      ]
     },
     "execution_count": 77,
     "metadata": {},
     "output_type": "execute_result"
    }
   ],
   "source": [
    "# Question 10\n",
    "# Which of the following function headers is correct?\n",
    "#    A. def afunction(a1 = 1, a2):\n",
    "#    B. def afunction(a1 = 1, a2, a3 = 3):\n",
    "#    C. def afunction(a1 = 1, a2 = 2, a3 = 3):\n",
    "\n",
    "#def afunction(a1 = 1, a2):\n",
    "    #return a1\n",
    "#afunction()\n",
    "\n",
    "#def afunction(a1 = 1, a2, a3 = 3):\n",
    "    #return a1\n",
    "#afunction()  \n",
    "\n",
    "def afunction(a1 = 1, a2 = 2, a3 = 3):\n",
    "    return a1\n",
    "afunction()\n",
    "\n"
   ]
  },
  {
   "cell_type": "code",
   "execution_count": 63,
   "metadata": {},
   "outputs": [
    {
     "ename": "UnboundLocalError",
     "evalue": "local variable 'message' referenced before assignment",
     "output_type": "error",
     "traceback": [
      "\u001b[1;31m---------------------------------------------------------------------------\u001b[0m",
      "\u001b[1;31mUnboundLocalError\u001b[0m                         Traceback (most recent call last)",
      "\u001b[1;32m<ipython-input-63-24e20847e478>\u001b[0m in \u001b[0;36m<module>\u001b[1;34m\u001b[0m\n\u001b[0;32m     15\u001b[0m          \u001b[0mprint\u001b[0m\u001b[1;33m(\u001b[0m\u001b[0mmessage\u001b[0m\u001b[1;33m)\u001b[0m\u001b[1;33m\u001b[0m\u001b[1;33m\u001b[0m\u001b[0m\n\u001b[0;32m     16\u001b[0m \u001b[0mmessage\u001b[0m\u001b[1;33m=\u001b[0m\u001b[1;34m\"Outside function!\"\u001b[0m\u001b[1;33m\u001b[0m\u001b[1;33m\u001b[0m\u001b[0m\n\u001b[1;32m---> 17\u001b[1;33m \u001b[0mf\u001b[0m\u001b[1;33m(\u001b[0m\u001b[1;34m\"Test function:\"\u001b[0m\u001b[1;33m)\u001b[0m\u001b[1;33m\u001b[0m\u001b[1;33m\u001b[0m\u001b[0m\n\u001b[0m",
      "\u001b[1;32m<ipython-input-63-24e20847e478>\u001b[0m in \u001b[0;36mf\u001b[1;34m(mystring)\u001b[0m\n\u001b[0;32m     10\u001b[0m \u001b[1;33m\u001b[0m\u001b[0m\n\u001b[0;32m     11\u001b[0m \u001b[1;32mdef\u001b[0m \u001b[0mf\u001b[0m\u001b[1;33m(\u001b[0m\u001b[0mmystring\u001b[0m\u001b[1;33m)\u001b[0m\u001b[1;33m:\u001b[0m\u001b[1;33m\u001b[0m\u001b[1;33m\u001b[0m\u001b[0m\n\u001b[1;32m---> 12\u001b[1;33m          \u001b[0mprint\u001b[0m\u001b[1;33m(\u001b[0m\u001b[0mmessage\u001b[0m\u001b[1;33m)\u001b[0m\u001b[1;33m\u001b[0m\u001b[1;33m\u001b[0m\u001b[0m\n\u001b[0m\u001b[0;32m     13\u001b[0m          \u001b[0mprint\u001b[0m\u001b[1;33m(\u001b[0m\u001b[0mmystring\u001b[0m\u001b[1;33m)\u001b[0m\u001b[1;33m\u001b[0m\u001b[1;33m\u001b[0m\u001b[0m\n\u001b[0;32m     14\u001b[0m          \u001b[0mmessage\u001b[0m\u001b[1;33m=\u001b[0m\u001b[1;34m\"Inside function now!\"\u001b[0m\u001b[1;33m\u001b[0m\u001b[1;33m\u001b[0m\u001b[0m\n",
      "\u001b[1;31mUnboundLocalError\u001b[0m: local variable 'message' referenced before assignment"
     ]
    }
   ],
   "source": [
    "# Question 8\n",
    "# What will be printed after executing the following code?\n",
    "# >>>def f(mystring):\n",
    "#          print(message)\n",
    "#          print(mystring)\n",
    "#          message=\"Inside function now!\"\n",
    "#          print(message)\n",
    "# >>>message=\"Outside function!\"\n",
    "# >>>f(\"Test function:\")\n",
    "\n",
    "def f(mystring):\n",
    "         print(message)\n",
    "         print(mystring)\n",
    "         message=\"Inside function now!\"\n",
    "         print(message)\n",
    "message=\"Outside function!\"\n",
    "f(\"Test function:\")\n"
   ]
  },
  {
   "cell_type": "code",
   "execution_count": 61,
   "metadata": {},
   "outputs": [
    {
     "name": "stdout",
     "output_type": "stream",
     "text": [
      "[3, 4]\n"
     ]
    }
   ],
   "source": [
    "# Question 7\n",
    "# What is the type of variable L3 and what is its value if L1 and L2 are lists?\n",
    "# L3 = [i for i in set(L1) if i in L2]\n",
    "\n",
    "\n",
    "L1 = [1,2,3,4,4]\n",
    "L2 = [3,4,4,5,6]\n",
    "L3 = [i for i in set(L1) if i in L2]\n",
    "\n",
    "print (L3)"
   ]
  },
  {
   "cell_type": "code",
   "execution_count": 48,
   "metadata": {},
   "outputs": [
    {
     "data": {
      "text/plain": [
       "True"
      ]
     },
     "execution_count": 48,
     "metadata": {},
     "output_type": "execute_result"
    }
   ],
   "source": [
    "# Question 6\n",
    "# The following functions are all intended to check whether a string representing a dna sequence contains any characters that are not 'a','c','g','t', 'A', 'C', 'G', or 'T'. At least some of these functions are wrong. Which ones are correct?\n",
    "\n",
    "def valid_dna1(dna):\n",
    "    for c in dna:\n",
    "        if c in 'acgtACGT':\n",
    "            return True\n",
    "        else:\n",
    "            return False  \n",
    "dna = \"actgATGCxb\"\n",
    "valid_dna1(dna)\n"
   ]
  },
  {
   "cell_type": "code",
   "execution_count": 47,
   "metadata": {},
   "outputs": [
    {
     "data": {
      "text/plain": [
       "'True'"
      ]
     },
     "execution_count": 47,
     "metadata": {},
     "output_type": "execute_result"
    }
   ],
   "source": [
    "\n",
    "def valid_dna2(dna):\n",
    "    for c in dna:\n",
    "        if 'c' in 'acgtACGT':\n",
    "            return 'True'\n",
    "        else:\n",
    "            return 'False'\n",
    "dna = \"actgATGCxb\"\n",
    "valid_dna2(dna)\n"
   ]
  },
  {
   "cell_type": "code",
   "execution_count": 44,
   "metadata": {},
   "outputs": [
    {
     "data": {
      "text/plain": [
       "False"
      ]
     },
     "execution_count": 44,
     "metadata": {},
     "output_type": "execute_result"
    }
   ],
   "source": [
    "def valid_dna3(dna):\n",
    "    for c in dna:\n",
    "        flag = c in 'acgtACGT'\n",
    "    return flag\n",
    "dna = \"actgATGCxb\"\n",
    "valid_dna3(dna)\n"
   ]
  },
  {
   "cell_type": "code",
   "execution_count": 43,
   "metadata": {},
   "outputs": [
    {
     "data": {
      "text/plain": [
       "False"
      ]
     },
     "execution_count": 43,
     "metadata": {},
     "output_type": "execute_result"
    }
   ],
   "source": [
    "dna = \"actgATGCx\"\n",
    "def valid_dna4(dna):\n",
    "    for c in dna:\n",
    "        if not c in 'acgtACGT':\n",
    "            return False\n",
    "    return True\n",
    "\n",
    "dna = \"actgATGCxb\"\n",
    "valid_dna4(dna)"
   ]
  },
  {
   "cell_type": "code",
   "execution_count": null,
   "metadata": {},
   "outputs": [],
   "source": [
    "# Question 9\n",
    "# Which statement below is true about a function:\n",
    "# must always have a return statement\n",
    "# must always have a fixed number of arguments\n",
    "# may have no parameters\n",
    "# must have at least one parameter\n"
   ]
  }
 ],
 "metadata": {
  "kernelspec": {
   "display_name": "Python 3",
   "language": "python",
   "name": "python3"
  },
  "language_info": {
   "codemirror_mode": {
    "name": "ipython",
    "version": 3
   },
   "file_extension": ".py",
   "mimetype": "text/x-python",
   "name": "python",
   "nbconvert_exporter": "python",
   "pygments_lexer": "ipython3",
   "version": "3.8.5"
  }
 },
 "nbformat": 4,
 "nbformat_minor": 4
}
