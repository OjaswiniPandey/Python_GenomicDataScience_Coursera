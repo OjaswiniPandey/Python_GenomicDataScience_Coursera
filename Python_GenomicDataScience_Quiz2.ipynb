{
 "cells": [
  {
   "cell_type": "code",
   "execution_count": 1,
   "metadata": {},
   "outputs": [
    {
     "name": "stdout",
     "output_type": "stream",
     "text": [
      "Hello\n"
     ]
    }
   ],
   "source": [
    "print (\"Hello\")"
   ]
  },
  {
   "cell_type": "code",
   "execution_count": 2,
   "metadata": {},
   "outputs": [
    {
     "data": {
      "text/plain": [
       "8.5"
      ]
     },
     "execution_count": 2,
     "metadata": {},
     "output_type": "execute_result"
    }
   ],
   "source": [
    "#Question 1\n",
    "#What is the result of the following operation in Python: 17/2 ?\n",
    "17/2"
   ]
  },
  {
   "cell_type": "code",
   "execution_count": 3,
   "metadata": {},
   "outputs": [
    {
     "ename": "NameError",
     "evalue": "name 'myDna' is not defined",
     "output_type": "error",
     "traceback": [
      "\u001b[1;31m---------------------------------------------------------------------------\u001b[0m",
      "\u001b[1;31mNameError\u001b[0m                                 Traceback (most recent call last)",
      "\u001b[1;32m<ipython-input-3-2cee660b415f>\u001b[0m in \u001b[0;36m<module>\u001b[1;34m\u001b[0m\n\u001b[0;32m      8\u001b[0m \u001b[0mmydna\u001b[0m \u001b[1;33m=\u001b[0m \u001b[1;34m'actg'\u001b[0m\u001b[1;33m\u001b[0m\u001b[1;33m\u001b[0m\u001b[0m\n\u001b[0;32m      9\u001b[0m \u001b[0mmydna\u001b[0m \u001b[1;33m=\u001b[0m \u001b[0mmydna\u001b[0m \u001b[1;33m+\u001b[0m \u001b[0mmydna\u001b[0m\u001b[1;33m\u001b[0m\u001b[1;33m\u001b[0m\u001b[0m\n\u001b[1;32m---> 10\u001b[1;33m \u001b[0mprint\u001b[0m \u001b[1;33m(\u001b[0m\u001b[0mmyDna\u001b[0m\u001b[1;33m)\u001b[0m\u001b[1;33m\u001b[0m\u001b[1;33m\u001b[0m\u001b[0m\n\u001b[0m",
      "\u001b[1;31mNameError\u001b[0m: name 'myDna' is not defined"
     ]
    }
   ],
   "source": [
    "#Question 2\n",
    "#Given the following code in Python:\n",
    "#1 >>> mydna = 'acgt'\n",
    "#2 >>> mydna = mydna + mydna\n",
    "#What will be the result of typing the following at the Python interpreter prompt:\n",
    "#>>> myDna\n",
    "\n",
    "mydna = 'actg'\n",
    "mydna = mydna + mydna\n",
    "print (myDna)\n"
   ]
  },
  {
   "cell_type": "code",
   "execution_count": null,
   "metadata": {},
   "outputs": [],
   "source": [
    "#Question 3\n",
    "#The following commands are entered at the prompt of Python interpreter.\n",
    "#1 >>> dna=\"atgctggggact\"\n",
    "#2 >>> dna[:3]\n",
    "# What will be the output of the last command?\n",
    "\n",
    "dna=\"atgctggggact\"\n",
    "dna[:3]\n",
    "dna\n",
    "\n",
    "\n"
   ]
  },
  {
   "cell_type": "code",
   "execution_count": null,
   "metadata": {},
   "outputs": [],
   "source": [
    "#Question 4\n",
    "#What is the output of 'dna'+1+2+3 ?\n",
    "'dna'+1+2+3"
   ]
  },
  {
   "cell_type": "code",
   "execution_count": null,
   "metadata": {},
   "outputs": [],
   "source": [
    "#Question 5\n",
    "#Given a string variable called dna, for instance:\n",
    "#>>> dna='agcagttagcta'\n",
    "#What is a correct way to count the number of occurrences of 'ag' in dna:\n",
    "  \n",
    "dna='agcagttagcta'\n",
    "dna.count('ag')"
   ]
  },
  {
   "cell_type": "code",
   "execution_count": null,
   "metadata": {},
   "outputs": [],
   "source": [
    "#Question 6\n",
    "#What is the value of the variable seqlen, after the following code is entered in Python:\n",
    "#1 >>> seqlen = '10bp'\n",
    "#2 >>> seqlen='2'+seqlen\n",
    "#3 >>> seqlen=seqlen*2\n",
    "\n",
    "seqlen = '10bp'\n",
    "seqlen='2'+seqlen\n",
    "seqlen=seqlen*2\n",
    "seqlen"
   ]
  },
  {
   "cell_type": "code",
   "execution_count": null,
   "metadata": {},
   "outputs": [],
   "source": [
    "#Question 7\n",
    "#You wish to display the following text using the print function in Python:\n",
    "#1 >HSBGPG Human bone gla gene\\transcript \"BGP\"\n",
    "#2 GGCAGATTCCCCCTAGA\n",
    "#Select the correct way to display this output in Python 3.xx:\n",
    "\n",
    "print('>HSBGPG Human bone gla gene\\\\transcript \"BGP\"\\nGGCAGATTCCCCCTAGA')"
   ]
  },
  {
   "cell_type": "code",
   "execution_count": null,
   "metadata": {},
   "outputs": [],
   "source": [
    "#Question 8\n",
    "#A student is writing Python 3.xx code to read in a dna sequence using the following command:\n",
    "#>>> dna=input(\"Enter a DNA sequence, please:\")\n",
    "#The student tries three different ways to compute the index of the second occurrence of the string 'atg' in the dna sequence:\n",
    "#A.\n",
    "#>>> o1 = dna.find('atg')\n",
    "#>>> dna.find('atg',o1+1)\n",
    "#B.\n",
    "#>>> dna.rfind('atg')\n",
    "#C. \n",
    "#>>> dna.find('atg',dna.find('atg')+1) \n",
    "#Which of these ways is correct:\n",
    "#A or B or C\n",
    "#A or C\n",
    "#B\n",
    "#A\n",
    "\n",
    "dna=input(\"Enter a DNA sequence, please:\")"
   ]
  },
  {
   "cell_type": "code",
   "execution_count": null,
   "metadata": {},
   "outputs": [],
   "source": [
    "o1 = dna.find('atg')\n",
    "dna.find('atg',o1+1)\n"
   ]
  },
  {
   "cell_type": "code",
   "execution_count": null,
   "metadata": {},
   "outputs": [],
   "source": [
    "dna.rfind('atg')"
   ]
  },
  {
   "cell_type": "code",
   "execution_count": null,
   "metadata": {},
   "outputs": [],
   "source": [
    "dna.find('atg',dna.find('atg')+1)"
   ]
  },
  {
   "cell_type": "code",
   "execution_count": null,
   "metadata": {},
   "outputs": [],
   "source": [
    "#Question 9\n",
    "#What are the types of the following literals, in order?\n",
    "#1, 1., 1.0, 1e10, 0x12,\"1\", \"1.0\", 100000000000000000, 100000000000000000.0\n",
    "\n",
    "type(1)\n"
   ]
  },
  {
   "cell_type": "code",
   "execution_count": null,
   "metadata": {},
   "outputs": [],
   "source": [
    "type (1.) \n"
   ]
  },
  {
   "cell_type": "code",
   "execution_count": null,
   "metadata": {},
   "outputs": [],
   "source": [
    "type(1.0) \n"
   ]
  },
  {
   "cell_type": "code",
   "execution_count": null,
   "metadata": {},
   "outputs": [],
   "source": [
    "type(1e10)\n"
   ]
  },
  {
   "cell_type": "code",
   "execution_count": null,
   "metadata": {},
   "outputs": [],
   "source": [
    "type(0x12)\n"
   ]
  },
  {
   "cell_type": "code",
   "execution_count": null,
   "metadata": {},
   "outputs": [],
   "source": [
    "type(\"1\")\n"
   ]
  },
  {
   "cell_type": "code",
   "execution_count": null,
   "metadata": {},
   "outputs": [],
   "source": [
    "type(\"1.0\") \n"
   ]
  },
  {
   "cell_type": "code",
   "execution_count": null,
   "metadata": {},
   "outputs": [],
   "source": [
    "type(100000000000000000)\n"
   ]
  },
  {
   "cell_type": "code",
   "execution_count": null,
   "metadata": {},
   "outputs": [],
   "source": [
    "type(100000000000000000.0)"
   ]
  },
  {
   "cell_type": "code",
   "execution_count": null,
   "metadata": {},
   "outputs": [],
   "source": [
    "Question 10\n",
    "What is the result of int(4+6/2+2*2)?\n",
    "\n",
    "int(4+6/2+2*2)"
   ]
  },
  {
   "cell_type": "code",
   "execution_count": null,
   "metadata": {},
   "outputs": [],
   "source": [
    "#Question 11\n",
    "#What is the difference between the expressions val = 1234567 and val = 1.234567 * 10 ** 6?\n",
    "\n",
    "val1 = 1234567\n",
    "print (val1)"
   ]
  },
  {
   "cell_type": "code",
   "execution_count": null,
   "metadata": {},
   "outputs": [],
   "source": [
    "val2 = 1.234567 * 10 ** 6\n",
    "print (val2)"
   ]
  },
  {
   "cell_type": "code",
   "execution_count": null,
   "metadata": {},
   "outputs": [],
   "source": [
    "#Question 12\n",
    "#What are the values of the variables a, b, c and d after the following statements have been executed?\n",
    "#a=1\n",
    "#b=2\n",
    "#c=a+b\n",
    "#a = b\n",
    "#a = c\n",
    "#d=a+c\n",
    "\n",
    "a=1\n",
    "b=2\n",
    "c=a+b\n",
    "a = b\n",
    "a = c\n",
    "d=a+c\n",
    "\n",
    "print (a,b,c,d)"
   ]
  }
 ],
 "metadata": {
  "kernelspec": {
   "display_name": "Python 3",
   "language": "python",
   "name": "python3"
  },
  "language_info": {
   "codemirror_mode": {
    "name": "ipython",
    "version": 3
   },
   "file_extension": ".py",
   "mimetype": "text/x-python",
   "name": "python",
   "nbconvert_exporter": "python",
   "pygments_lexer": "ipython3",
   "version": "3.8.5"
  }
 },
 "nbformat": 4,
 "nbformat_minor": 4
}
